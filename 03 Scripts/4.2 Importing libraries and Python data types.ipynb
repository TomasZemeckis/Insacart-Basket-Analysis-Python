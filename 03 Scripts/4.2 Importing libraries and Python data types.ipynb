{
 "cells": [
  {
   "cell_type": "markdown",
   "id": "4ab52c00",
   "metadata": {},
   "source": [
    "1. Import libraries"
   ]
  },
  {
   "cell_type": "code",
   "execution_count": 15,
   "id": "9a62d1e6",
   "metadata": {},
   "outputs": [],
   "source": [
    "# Import libraries\n",
    "import pandas as pd\n",
    "import numpy as np\n",
    "import os"
   ]
  },
  {
   "cell_type": "markdown",
   "id": "a379cf07",
   "metadata": {},
   "source": [
    "2. Data types"
   ]
  },
  {
   "cell_type": "code",
   "execution_count": 1,
   "id": "215dc71c",
   "metadata": {},
   "outputs": [],
   "source": [
    "x=2"
   ]
  },
  {
   "cell_type": "code",
   "execution_count": 2,
   "id": "ea903b89",
   "metadata": {},
   "outputs": [
    {
     "data": {
      "text/plain": [
       "2"
      ]
     },
     "execution_count": 2,
     "metadata": {},
     "output_type": "execute_result"
    }
   ],
   "source": [
    "x"
   ]
  },
  {
   "cell_type": "code",
   "execution_count": 3,
   "id": "fa79a47b",
   "metadata": {},
   "outputs": [
    {
     "data": {
      "text/plain": [
       "int"
      ]
     },
     "execution_count": 3,
     "metadata": {},
     "output_type": "execute_result"
    }
   ],
   "source": [
    "type(x)"
   ]
  },
  {
   "cell_type": "code",
   "execution_count": 5,
   "id": "68bf9e66",
   "metadata": {},
   "outputs": [],
   "source": [
    "y=5.678"
   ]
  },
  {
   "cell_type": "code",
   "execution_count": 6,
   "id": "11f34704",
   "metadata": {},
   "outputs": [
    {
     "data": {
      "text/plain": [
       "float"
      ]
     },
     "execution_count": 6,
     "metadata": {},
     "output_type": "execute_result"
    }
   ],
   "source": [
    "type(y)"
   ]
  },
  {
   "cell_type": "code",
   "execution_count": 7,
   "id": "0ad57778",
   "metadata": {},
   "outputs": [],
   "source": [
    "z='Brazil'"
   ]
  },
  {
   "cell_type": "code",
   "execution_count": 8,
   "id": "c2aea99e",
   "metadata": {},
   "outputs": [
    {
     "data": {
      "text/plain": [
       "str"
      ]
     },
     "execution_count": 8,
     "metadata": {},
     "output_type": "execute_result"
    }
   ],
   "source": [
    "type(z)"
   ]
  },
  {
   "cell_type": "code",
   "execution_count": 9,
   "id": "70ed334c",
   "metadata": {},
   "outputs": [
    {
     "data": {
      "text/plain": [
       "str"
      ]
     },
     "execution_count": 9,
     "metadata": {},
     "output_type": "execute_result"
    }
   ],
   "source": [
    "type('Mania')"
   ]
  },
  {
   "cell_type": "code",
   "execution_count": 10,
   "id": "176ecdf3",
   "metadata": {},
   "outputs": [
    {
     "data": {
      "text/plain": [
       "bool"
      ]
     },
     "execution_count": 10,
     "metadata": {},
     "output_type": "execute_result"
    }
   ],
   "source": [
    "type(True)"
   ]
  },
  {
   "cell_type": "code",
   "execution_count": 11,
   "id": "54eb7798",
   "metadata": {},
   "outputs": [
    {
     "data": {
      "text/plain": [
       "bool"
      ]
     },
     "execution_count": 11,
     "metadata": {},
     "output_type": "execute_result"
    }
   ],
   "source": [
    "type(False)"
   ]
  },
  {
   "cell_type": "code",
   "execution_count": 12,
   "id": "3cd941c5",
   "metadata": {},
   "outputs": [
    {
     "data": {
      "text/plain": [
       "6"
      ]
     },
     "execution_count": 12,
     "metadata": {},
     "output_type": "execute_result"
    }
   ],
   "source": [
    "x+4"
   ]
  },
  {
   "cell_type": "code",
   "execution_count": 13,
   "id": "89d8f1f4",
   "metadata": {},
   "outputs": [],
   "source": [
    "a='Hello, '"
   ]
  },
  {
   "cell_type": "code",
   "execution_count": 14,
   "id": "d2cc1555",
   "metadata": {},
   "outputs": [],
   "source": [
    "b='Marley'"
   ]
  },
  {
   "cell_type": "code",
   "execution_count": 16,
   "id": "d2e9e70c",
   "metadata": {},
   "outputs": [
    {
     "data": {
      "text/plain": [
       "'Hello, Marley'"
      ]
     },
     "execution_count": 16,
     "metadata": {},
     "output_type": "execute_result"
    }
   ],
   "source": [
    "a+b"
   ]
  },
  {
   "cell_type": "code",
   "execution_count": 17,
   "id": "2466b97a",
   "metadata": {},
   "outputs": [],
   "source": [
    "n='potato'"
   ]
  },
  {
   "cell_type": "code",
   "execution_count": 18,
   "id": "a1f94a44",
   "metadata": {},
   "outputs": [
    {
     "data": {
      "text/plain": [
       "'potatopotatopotatopotatopotatopotatopotatopotatopotatopotatopotatopotato'"
      ]
     },
     "execution_count": 18,
     "metadata": {},
     "output_type": "execute_result"
    }
   ],
   "source": [
    "n*12"
   ]
  },
  {
   "cell_type": "code",
   "execution_count": 19,
   "id": "9878152c",
   "metadata": {},
   "outputs": [
    {
     "data": {
      "text/plain": [
       "False"
      ]
     },
     "execution_count": 19,
     "metadata": {},
     "output_type": "execute_result"
    }
   ],
   "source": [
    "x==y"
   ]
  },
  {
   "cell_type": "code",
   "execution_count": 20,
   "id": "715ccd07",
   "metadata": {},
   "outputs": [
    {
     "data": {
      "text/plain": [
       "bool"
      ]
     },
     "execution_count": 20,
     "metadata": {},
     "output_type": "execute_result"
    }
   ],
   "source": [
    "type(x==y)"
   ]
  },
  {
   "cell_type": "markdown",
   "id": "040196ce",
   "metadata": {},
   "source": [
    "Task 4.2 Working with Python data types"
   ]
  },
  {
   "cell_type": "code",
   "execution_count": 21,
   "id": "bf429fd2",
   "metadata": {},
   "outputs": [],
   "source": [
    "s=10"
   ]
  },
  {
   "cell_type": "code",
   "execution_count": 22,
   "id": "bf61bbc6",
   "metadata": {},
   "outputs": [
    {
     "data": {
      "text/plain": [
       "100"
      ]
     },
     "execution_count": 22,
     "metadata": {},
     "output_type": "execute_result"
    }
   ],
   "source": [
    "s*10"
   ]
  },
  {
   "cell_type": "code",
   "execution_count": 23,
   "id": "9d9c7000",
   "metadata": {},
   "outputs": [],
   "source": [
    "f=40"
   ]
  },
  {
   "cell_type": "code",
   "execution_count": 24,
   "id": "d60e5322",
   "metadata": {},
   "outputs": [],
   "source": [
    "g=50"
   ]
  },
  {
   "cell_type": "code",
   "execution_count": 25,
   "id": "62629b8d",
   "metadata": {},
   "outputs": [
    {
     "data": {
      "text/plain": [
       "100"
      ]
     },
     "execution_count": 25,
     "metadata": {},
     "output_type": "execute_result"
    }
   ],
   "source": [
    "s+f+g"
   ]
  },
  {
   "cell_type": "code",
   "execution_count": 26,
   "id": "ba47755c",
   "metadata": {},
   "outputs": [],
   "source": [
    "h=130"
   ]
  },
  {
   "cell_type": "code",
   "execution_count": 27,
   "id": "f15dec3e",
   "metadata": {},
   "outputs": [
    {
     "data": {
      "text/plain": [
       "100"
      ]
     },
     "execution_count": 27,
     "metadata": {},
     "output_type": "execute_result"
    }
   ],
   "source": [
    "h-f+s"
   ]
  },
  {
   "cell_type": "markdown",
   "id": "ef6ad777",
   "metadata": {},
   "source": [
    "    Step 8"
   ]
  },
  {
   "cell_type": "code",
   "execution_count": 29,
   "id": "e331e105",
   "metadata": {},
   "outputs": [],
   "source": [
    "o=127.89"
   ]
  },
  {
   "cell_type": "code",
   "execution_count": 30,
   "id": "4a5d82f3",
   "metadata": {},
   "outputs": [],
   "source": [
    "p=9.3"
   ]
  },
  {
   "cell_type": "code",
   "execution_count": 31,
   "id": "a52f2efe",
   "metadata": {},
   "outputs": [
    {
     "data": {
      "text/plain": [
       "13.751612903225805"
      ]
     },
     "execution_count": 31,
     "metadata": {},
     "output_type": "execute_result"
    }
   ],
   "source": [
    "o/p"
   ]
  },
  {
   "cell_type": "markdown",
   "id": "b6c1bdc5",
   "metadata": {},
   "source": [
    "Step 9"
   ]
  },
  {
   "cell_type": "code",
   "execution_count": 32,
   "id": "8392c7b8",
   "metadata": {},
   "outputs": [],
   "source": [
    "w='Import'"
   ]
  },
  {
   "cell_type": "code",
   "execution_count": 33,
   "id": "496d0f5c",
   "metadata": {},
   "outputs": [],
   "source": [
    "e='ing'"
   ]
  },
  {
   "cell_type": "code",
   "execution_count": 34,
   "id": "bf3cfa6e",
   "metadata": {},
   "outputs": [
    {
     "data": {
      "text/plain": [
       "'Importing'"
      ]
     },
     "execution_count": 34,
     "metadata": {},
     "output_type": "execute_result"
    }
   ],
   "source": [
    "w+e"
   ]
  },
  {
   "cell_type": "markdown",
   "id": "bad5d1fd",
   "metadata": {},
   "source": [
    "Step 10"
   ]
  },
  {
   "cell_type": "code",
   "execution_count": 35,
   "id": "34e6a319",
   "metadata": {},
   "outputs": [],
   "source": [
    "v=' Samantha, Elizabeth and Joan '"
   ]
  },
  {
   "cell_type": "code",
   "execution_count": 36,
   "id": "c7097f0b",
   "metadata": {},
   "outputs": [],
   "source": [
    "b='are on the commitee.'"
   ]
  },
  {
   "cell_type": "code",
   "execution_count": 37,
   "id": "4274805c",
   "metadata": {
    "scrolled": true
   },
   "outputs": [
    {
     "data": {
      "text/plain": [
       "' Samantha, Elizabeth and Joan are on the commitee.'"
      ]
     },
     "execution_count": 37,
     "metadata": {},
     "output_type": "execute_result"
    }
   ],
   "source": [
    "v+b"
   ]
  },
  {
   "cell_type": "code",
   "execution_count": 38,
   "id": "a6207f07",
   "metadata": {},
   "outputs": [],
   "source": [
    "n='The paper '"
   ]
  },
  {
   "cell_type": "code",
   "execution_count": 39,
   "id": "f8b7adb5",
   "metadata": {},
   "outputs": [],
   "source": [
    "m='and pencil '"
   ]
  },
  {
   "cell_type": "code",
   "execution_count": 40,
   "id": "ed0ed729",
   "metadata": {},
   "outputs": [],
   "source": [
    "l='sat idle on '"
   ]
  },
  {
   "cell_type": "code",
   "execution_count": 41,
   "id": "bcaa5097",
   "metadata": {},
   "outputs": [],
   "source": [
    "k='the desk.'"
   ]
  },
  {
   "cell_type": "code",
   "execution_count": 42,
   "id": "b25b61d9",
   "metadata": {},
   "outputs": [
    {
     "data": {
      "text/plain": [
       "'The paper and pencil sat idle on the desk.'"
      ]
     },
     "execution_count": 42,
     "metadata": {},
     "output_type": "execute_result"
    }
   ],
   "source": [
    "n+m+l+k"
   ]
  }
 ],
 "metadata": {
  "kernelspec": {
   "display_name": "Python 3 (ipykernel)",
   "language": "python",
   "name": "python3"
  },
  "language_info": {
   "codemirror_mode": {
    "name": "ipython",
    "version": 3
   },
   "file_extension": ".py",
   "mimetype": "text/x-python",
   "name": "python",
   "nbconvert_exporter": "python",
   "pygments_lexer": "ipython3",
   "version": "3.11.5"
  }
 },
 "nbformat": 4,
 "nbformat_minor": 5
}
