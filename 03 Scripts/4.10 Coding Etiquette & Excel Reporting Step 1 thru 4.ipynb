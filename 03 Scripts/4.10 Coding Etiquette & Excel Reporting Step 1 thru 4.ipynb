{
 "cells": [
  {
   "cell_type": "markdown",
   "id": "f87bc163",
   "metadata": {},
   "source": [
    "# 4.10 Coding Etiquette & Excel Reporting"
   ]
  },
  {
   "cell_type": "code",
   "execution_count": 1,
   "id": "929b207d",
   "metadata": {},
   "outputs": [],
   "source": [
    "# Import libraries\n",
    "import pandas as pd\n",
    "import numpy as np\n",
    "import os\n",
    "import matplotlib.pyplot as plt\n",
    "import seaborn as sns\n",
    "import scipy"
   ]
  },
  {
   "cell_type": "code",
   "execution_count": 2,
   "id": "39798392",
   "metadata": {},
   "outputs": [],
   "source": [
    "# Creating path\n",
    "path = r'C:\\Users\\avadr\\27-01-2020 Instacart Basket Analysis'"
   ]
  },
  {
   "cell_type": "code",
   "execution_count": 3,
   "id": "0d070707",
   "metadata": {},
   "outputs": [],
   "source": [
    "# Importing data setfrom pickle format\n",
    "ords_prods_merge = pd.read_pickle(os.path.join(path, '02 Data', 'Prepared Data', 'final_.pkl'))"
   ]
  },
  {
   "cell_type": "code",
   "execution_count": 4,
   "id": "91fd590e",
   "metadata": {},
   "outputs": [],
   "source": [
    "# Creating crosstab \n",
    "crosstab = pd.crosstab(ords_prods_merge['days_since_prior_order'], ords_prods_merge['number_of_orders'], dropna = False)"
   ]
  },
  {
   "cell_type": "code",
   "execution_count": 5,
   "id": "b8842d67",
   "metadata": {},
   "outputs": [],
   "source": [
    "# copy crosstab to cliboard to past it to excel\n",
    "crosstab.to_clipboard()"
   ]
  },
  {
   "cell_type": "code",
   "execution_count": 6,
   "id": "102aab61",
   "metadata": {},
   "outputs": [
    {
     "data": {
      "text/html": [
       "<div>\n",
       "<style scoped>\n",
       "    .dataframe tbody tr th:only-of-type {\n",
       "        vertical-align: middle;\n",
       "    }\n",
       "\n",
       "    .dataframe tbody tr th {\n",
       "        vertical-align: top;\n",
       "    }\n",
       "\n",
       "    .dataframe thead th {\n",
       "        text-align: right;\n",
       "    }\n",
       "</style>\n",
       "<table border=\"1\" class=\"dataframe\">\n",
       "  <thead>\n",
       "    <tr style=\"text-align: right;\">\n",
       "      <th></th>\n",
       "      <th>product_id</th>\n",
       "      <th>aisle_id</th>\n",
       "      <th>department_id</th>\n",
       "      <th>prices</th>\n",
       "      <th>order_id</th>\n",
       "      <th>user_id</th>\n",
       "      <th>number_of_orders</th>\n",
       "      <th>orders_day_of_week</th>\n",
       "      <th>order_hour_of_day</th>\n",
       "      <th>days_since_prior_order</th>\n",
       "      <th>add_to_cart_order</th>\n",
       "      <th>reordered</th>\n",
       "      <th>max_order</th>\n",
       "      <th>mean_price</th>\n",
       "      <th>median_days_since_prior_order</th>\n",
       "      <th>Age</th>\n",
       "      <th>date_joined</th>\n",
       "      <th>dependants</th>\n",
       "      <th>income</th>\n",
       "    </tr>\n",
       "  </thead>\n",
       "  <tbody>\n",
       "    <tr>\n",
       "      <th>count</th>\n",
       "      <td>3.240486e+07</td>\n",
       "      <td>3.240486e+07</td>\n",
       "      <td>3.240486e+07</td>\n",
       "      <td>3.240486e+07</td>\n",
       "      <td>3.240486e+07</td>\n",
       "      <td>3.240486e+07</td>\n",
       "      <td>3.240486e+07</td>\n",
       "      <td>3.240486e+07</td>\n",
       "      <td>3.240486e+07</td>\n",
       "      <td>3.032876e+07</td>\n",
       "      <td>3.240486e+07</td>\n",
       "      <td>3.240486e+07</td>\n",
       "      <td>3.240486e+07</td>\n",
       "      <td>3.240486e+07</td>\n",
       "      <td>3.240485e+07</td>\n",
       "      <td>3.240486e+07</td>\n",
       "      <td>32404859</td>\n",
       "      <td>3.240486e+07</td>\n",
       "      <td>3.240486e+07</td>\n",
       "    </tr>\n",
       "    <tr>\n",
       "      <th>mean</th>\n",
       "      <td>2.559866e+04</td>\n",
       "      <td>7.119612e+01</td>\n",
       "      <td>9.919792e+00</td>\n",
       "      <td>1.198023e+01</td>\n",
       "      <td>1.710745e+06</td>\n",
       "      <td>1.029372e+05</td>\n",
       "      <td>1.714230e+01</td>\n",
       "      <td>2.738867e+00</td>\n",
       "      <td>1.342515e+01</td>\n",
       "      <td>1.110408e+01</td>\n",
       "      <td>8.352547e+00</td>\n",
       "      <td>5.895873e-01</td>\n",
       "      <td>3.305217e+01</td>\n",
       "      <td>1.198023e+01</td>\n",
       "      <td>1.039776e+01</td>\n",
       "      <td>4.946527e+01</td>\n",
       "      <td>2018-08-16 15:37:38.003034368</td>\n",
       "      <td>1.501896e+00</td>\n",
       "      <td>9.943773e+04</td>\n",
       "    </tr>\n",
       "    <tr>\n",
       "      <th>min</th>\n",
       "      <td>1.000000e+00</td>\n",
       "      <td>1.000000e+00</td>\n",
       "      <td>1.000000e+00</td>\n",
       "      <td>1.000000e+00</td>\n",
       "      <td>2.000000e+00</td>\n",
       "      <td>1.000000e+00</td>\n",
       "      <td>1.000000e+00</td>\n",
       "      <td>0.000000e+00</td>\n",
       "      <td>0.000000e+00</td>\n",
       "      <td>0.000000e+00</td>\n",
       "      <td>1.000000e+00</td>\n",
       "      <td>0.000000e+00</td>\n",
       "      <td>1.000000e+00</td>\n",
       "      <td>1.000000e+00</td>\n",
       "      <td>0.000000e+00</td>\n",
       "      <td>1.800000e+01</td>\n",
       "      <td>2017-01-01 00:00:00</td>\n",
       "      <td>0.000000e+00</td>\n",
       "      <td>2.590300e+04</td>\n",
       "    </tr>\n",
       "    <tr>\n",
       "      <th>25%</th>\n",
       "      <td>1.354400e+04</td>\n",
       "      <td>3.100000e+01</td>\n",
       "      <td>4.000000e+00</td>\n",
       "      <td>4.200000e+00</td>\n",
       "      <td>8.559470e+05</td>\n",
       "      <td>5.142200e+04</td>\n",
       "      <td>5.000000e+00</td>\n",
       "      <td>1.000000e+00</td>\n",
       "      <td>1.000000e+01</td>\n",
       "      <td>5.000000e+00</td>\n",
       "      <td>3.000000e+00</td>\n",
       "      <td>0.000000e+00</td>\n",
       "      <td>1.300000e+01</td>\n",
       "      <td>7.387298e+00</td>\n",
       "      <td>6.000000e+00</td>\n",
       "      <td>3.300000e+01</td>\n",
       "      <td>2017-10-22 00:00:00</td>\n",
       "      <td>1.000000e+00</td>\n",
       "      <td>6.700400e+04</td>\n",
       "    </tr>\n",
       "    <tr>\n",
       "      <th>50%</th>\n",
       "      <td>2.530200e+04</td>\n",
       "      <td>8.300000e+01</td>\n",
       "      <td>9.000000e+00</td>\n",
       "      <td>7.400000e+00</td>\n",
       "      <td>1.711049e+06</td>\n",
       "      <td>1.026160e+05</td>\n",
       "      <td>1.100000e+01</td>\n",
       "      <td>3.000000e+00</td>\n",
       "      <td>1.300000e+01</td>\n",
       "      <td>8.000000e+00</td>\n",
       "      <td>6.000000e+00</td>\n",
       "      <td>1.000000e+00</td>\n",
       "      <td>2.600000e+01</td>\n",
       "      <td>7.824786e+00</td>\n",
       "      <td>8.000000e+00</td>\n",
       "      <td>4.900000e+01</td>\n",
       "      <td>2018-08-16 00:00:00</td>\n",
       "      <td>2.000000e+00</td>\n",
       "      <td>9.661800e+04</td>\n",
       "    </tr>\n",
       "    <tr>\n",
       "      <th>75%</th>\n",
       "      <td>3.794700e+04</td>\n",
       "      <td>1.070000e+02</td>\n",
       "      <td>1.600000e+01</td>\n",
       "      <td>1.130000e+01</td>\n",
       "      <td>2.565499e+06</td>\n",
       "      <td>1.543890e+05</td>\n",
       "      <td>2.400000e+01</td>\n",
       "      <td>5.000000e+00</td>\n",
       "      <td>1.600000e+01</td>\n",
       "      <td>1.500000e+01</td>\n",
       "      <td>1.100000e+01</td>\n",
       "      <td>1.000000e+00</td>\n",
       "      <td>4.700000e+01</td>\n",
       "      <td>8.254023e+00</td>\n",
       "      <td>1.300000e+01</td>\n",
       "      <td>6.500000e+01</td>\n",
       "      <td>2019-06-09 00:00:00</td>\n",
       "      <td>3.000000e+00</td>\n",
       "      <td>1.279120e+05</td>\n",
       "    </tr>\n",
       "    <tr>\n",
       "      <th>max</th>\n",
       "      <td>4.968800e+04</td>\n",
       "      <td>1.340000e+02</td>\n",
       "      <td>2.100000e+01</td>\n",
       "      <td>9.999900e+04</td>\n",
       "      <td>3.421083e+06</td>\n",
       "      <td>2.062090e+05</td>\n",
       "      <td>9.900000e+01</td>\n",
       "      <td>6.000000e+00</td>\n",
       "      <td>2.300000e+01</td>\n",
       "      <td>3.000000e+01</td>\n",
       "      <td>1.450000e+02</td>\n",
       "      <td>1.000000e+00</td>\n",
       "      <td>9.900000e+01</td>\n",
       "      <td>2.500542e+04</td>\n",
       "      <td>3.000000e+01</td>\n",
       "      <td>8.100000e+01</td>\n",
       "      <td>2020-04-01 00:00:00</td>\n",
       "      <td>3.000000e+00</td>\n",
       "      <td>5.939010e+05</td>\n",
       "    </tr>\n",
       "    <tr>\n",
       "      <th>std</th>\n",
       "      <td>1.408400e+04</td>\n",
       "      <td>3.821139e+01</td>\n",
       "      <td>6.281485e+00</td>\n",
       "      <td>4.956554e+02</td>\n",
       "      <td>9.872988e+05</td>\n",
       "      <td>5.946610e+04</td>\n",
       "      <td>1.753532e+01</td>\n",
       "      <td>2.090077e+00</td>\n",
       "      <td>4.246380e+00</td>\n",
       "      <td>8.779064e+00</td>\n",
       "      <td>7.127071e+00</td>\n",
       "      <td>4.919087e-01</td>\n",
       "      <td>2.515525e+01</td>\n",
       "      <td>8.324227e+01</td>\n",
       "      <td>7.131754e+00</td>\n",
       "      <td>1.848558e+01</td>\n",
       "      <td>NaN</td>\n",
       "      <td>1.118865e+00</td>\n",
       "      <td>4.305727e+04</td>\n",
       "    </tr>\n",
       "  </tbody>\n",
       "</table>\n",
       "</div>"
      ],
      "text/plain": [
       "         product_id      aisle_id  department_id        prices      order_id  \\\n",
       "count  3.240486e+07  3.240486e+07   3.240486e+07  3.240486e+07  3.240486e+07   \n",
       "mean   2.559866e+04  7.119612e+01   9.919792e+00  1.198023e+01  1.710745e+06   \n",
       "min    1.000000e+00  1.000000e+00   1.000000e+00  1.000000e+00  2.000000e+00   \n",
       "25%    1.354400e+04  3.100000e+01   4.000000e+00  4.200000e+00  8.559470e+05   \n",
       "50%    2.530200e+04  8.300000e+01   9.000000e+00  7.400000e+00  1.711049e+06   \n",
       "75%    3.794700e+04  1.070000e+02   1.600000e+01  1.130000e+01  2.565499e+06   \n",
       "max    4.968800e+04  1.340000e+02   2.100000e+01  9.999900e+04  3.421083e+06   \n",
       "std    1.408400e+04  3.821139e+01   6.281485e+00  4.956554e+02  9.872988e+05   \n",
       "\n",
       "            user_id  number_of_orders  orders_day_of_week  order_hour_of_day  \\\n",
       "count  3.240486e+07      3.240486e+07        3.240486e+07       3.240486e+07   \n",
       "mean   1.029372e+05      1.714230e+01        2.738867e+00       1.342515e+01   \n",
       "min    1.000000e+00      1.000000e+00        0.000000e+00       0.000000e+00   \n",
       "25%    5.142200e+04      5.000000e+00        1.000000e+00       1.000000e+01   \n",
       "50%    1.026160e+05      1.100000e+01        3.000000e+00       1.300000e+01   \n",
       "75%    1.543890e+05      2.400000e+01        5.000000e+00       1.600000e+01   \n",
       "max    2.062090e+05      9.900000e+01        6.000000e+00       2.300000e+01   \n",
       "std    5.946610e+04      1.753532e+01        2.090077e+00       4.246380e+00   \n",
       "\n",
       "       days_since_prior_order  add_to_cart_order     reordered     max_order  \\\n",
       "count            3.032876e+07       3.240486e+07  3.240486e+07  3.240486e+07   \n",
       "mean             1.110408e+01       8.352547e+00  5.895873e-01  3.305217e+01   \n",
       "min              0.000000e+00       1.000000e+00  0.000000e+00  1.000000e+00   \n",
       "25%              5.000000e+00       3.000000e+00  0.000000e+00  1.300000e+01   \n",
       "50%              8.000000e+00       6.000000e+00  1.000000e+00  2.600000e+01   \n",
       "75%              1.500000e+01       1.100000e+01  1.000000e+00  4.700000e+01   \n",
       "max              3.000000e+01       1.450000e+02  1.000000e+00  9.900000e+01   \n",
       "std              8.779064e+00       7.127071e+00  4.919087e-01  2.515525e+01   \n",
       "\n",
       "         mean_price  median_days_since_prior_order           Age  \\\n",
       "count  3.240486e+07                   3.240485e+07  3.240486e+07   \n",
       "mean   1.198023e+01                   1.039776e+01  4.946527e+01   \n",
       "min    1.000000e+00                   0.000000e+00  1.800000e+01   \n",
       "25%    7.387298e+00                   6.000000e+00  3.300000e+01   \n",
       "50%    7.824786e+00                   8.000000e+00  4.900000e+01   \n",
       "75%    8.254023e+00                   1.300000e+01  6.500000e+01   \n",
       "max    2.500542e+04                   3.000000e+01  8.100000e+01   \n",
       "std    8.324227e+01                   7.131754e+00  1.848558e+01   \n",
       "\n",
       "                         date_joined    dependants        income  \n",
       "count                       32404859  3.240486e+07  3.240486e+07  \n",
       "mean   2018-08-16 15:37:38.003034368  1.501896e+00  9.943773e+04  \n",
       "min              2017-01-01 00:00:00  0.000000e+00  2.590300e+04  \n",
       "25%              2017-10-22 00:00:00  1.000000e+00  6.700400e+04  \n",
       "50%              2018-08-16 00:00:00  2.000000e+00  9.661800e+04  \n",
       "75%              2019-06-09 00:00:00  3.000000e+00  1.279120e+05  \n",
       "max              2020-04-01 00:00:00  3.000000e+00  5.939010e+05  \n",
       "std                              NaN  1.118865e+00  4.305727e+04  "
      ]
     },
     "execution_count": 6,
     "metadata": {},
     "output_type": "execute_result"
    }
   ],
   "source": [
    "ords_prods_merge.describe()"
   ]
  },
  {
   "cell_type": "code",
   "execution_count": 7,
   "id": "43d901a0",
   "metadata": {},
   "outputs": [],
   "source": [
    "# Fix formatting to remove scientific notation\n",
    "pd.set_option('display.float_format', lambda x: '%.2f' % x)"
   ]
  },
  {
   "cell_type": "code",
   "execution_count": 8,
   "id": "1e7c28bf",
   "metadata": {
    "scrolled": false
   },
   "outputs": [
    {
     "data": {
      "text/html": [
       "<div>\n",
       "<style scoped>\n",
       "    .dataframe tbody tr th:only-of-type {\n",
       "        vertical-align: middle;\n",
       "    }\n",
       "\n",
       "    .dataframe tbody tr th {\n",
       "        vertical-align: top;\n",
       "    }\n",
       "\n",
       "    .dataframe thead th {\n",
       "        text-align: right;\n",
       "    }\n",
       "</style>\n",
       "<table border=\"1\" class=\"dataframe\">\n",
       "  <thead>\n",
       "    <tr style=\"text-align: right;\">\n",
       "      <th></th>\n",
       "      <th>product_id</th>\n",
       "      <th>aisle_id</th>\n",
       "      <th>department_id</th>\n",
       "      <th>prices</th>\n",
       "      <th>order_id</th>\n",
       "      <th>user_id</th>\n",
       "      <th>number_of_orders</th>\n",
       "      <th>orders_day_of_week</th>\n",
       "      <th>order_hour_of_day</th>\n",
       "      <th>days_since_prior_order</th>\n",
       "      <th>add_to_cart_order</th>\n",
       "      <th>reordered</th>\n",
       "      <th>max_order</th>\n",
       "      <th>mean_price</th>\n",
       "      <th>median_days_since_prior_order</th>\n",
       "      <th>Age</th>\n",
       "      <th>date_joined</th>\n",
       "      <th>dependants</th>\n",
       "      <th>income</th>\n",
       "    </tr>\n",
       "  </thead>\n",
       "  <tbody>\n",
       "    <tr>\n",
       "      <th>count</th>\n",
       "      <td>32404859.00</td>\n",
       "      <td>32404859.00</td>\n",
       "      <td>32404859.00</td>\n",
       "      <td>32404859.00</td>\n",
       "      <td>32404859.00</td>\n",
       "      <td>32404859.00</td>\n",
       "      <td>32404859.00</td>\n",
       "      <td>32404859.00</td>\n",
       "      <td>32404859.00</td>\n",
       "      <td>30328763.00</td>\n",
       "      <td>32404859.00</td>\n",
       "      <td>32404859.00</td>\n",
       "      <td>32404859.00</td>\n",
       "      <td>32404859.00</td>\n",
       "      <td>32404854.00</td>\n",
       "      <td>32404859.00</td>\n",
       "      <td>32404859</td>\n",
       "      <td>32404859.00</td>\n",
       "      <td>32404859.00</td>\n",
       "    </tr>\n",
       "    <tr>\n",
       "      <th>mean</th>\n",
       "      <td>25598.66</td>\n",
       "      <td>71.20</td>\n",
       "      <td>9.92</td>\n",
       "      <td>11.98</td>\n",
       "      <td>1710745.50</td>\n",
       "      <td>102937.23</td>\n",
       "      <td>17.14</td>\n",
       "      <td>2.74</td>\n",
       "      <td>13.43</td>\n",
       "      <td>11.10</td>\n",
       "      <td>8.35</td>\n",
       "      <td>0.59</td>\n",
       "      <td>33.05</td>\n",
       "      <td>11.98</td>\n",
       "      <td>10.40</td>\n",
       "      <td>49.47</td>\n",
       "      <td>2018-08-16 15:37:38.003034368</td>\n",
       "      <td>1.50</td>\n",
       "      <td>99437.73</td>\n",
       "    </tr>\n",
       "    <tr>\n",
       "      <th>min</th>\n",
       "      <td>1.00</td>\n",
       "      <td>1.00</td>\n",
       "      <td>1.00</td>\n",
       "      <td>1.00</td>\n",
       "      <td>2.00</td>\n",
       "      <td>1.00</td>\n",
       "      <td>1.00</td>\n",
       "      <td>0.00</td>\n",
       "      <td>0.00</td>\n",
       "      <td>0.00</td>\n",
       "      <td>1.00</td>\n",
       "      <td>0.00</td>\n",
       "      <td>1.00</td>\n",
       "      <td>1.00</td>\n",
       "      <td>0.00</td>\n",
       "      <td>18.00</td>\n",
       "      <td>2017-01-01 00:00:00</td>\n",
       "      <td>0.00</td>\n",
       "      <td>25903.00</td>\n",
       "    </tr>\n",
       "    <tr>\n",
       "      <th>25%</th>\n",
       "      <td>13544.00</td>\n",
       "      <td>31.00</td>\n",
       "      <td>4.00</td>\n",
       "      <td>4.20</td>\n",
       "      <td>855947.00</td>\n",
       "      <td>51422.00</td>\n",
       "      <td>5.00</td>\n",
       "      <td>1.00</td>\n",
       "      <td>10.00</td>\n",
       "      <td>5.00</td>\n",
       "      <td>3.00</td>\n",
       "      <td>0.00</td>\n",
       "      <td>13.00</td>\n",
       "      <td>7.39</td>\n",
       "      <td>6.00</td>\n",
       "      <td>33.00</td>\n",
       "      <td>2017-10-22 00:00:00</td>\n",
       "      <td>1.00</td>\n",
       "      <td>67004.00</td>\n",
       "    </tr>\n",
       "    <tr>\n",
       "      <th>50%</th>\n",
       "      <td>25302.00</td>\n",
       "      <td>83.00</td>\n",
       "      <td>9.00</td>\n",
       "      <td>7.40</td>\n",
       "      <td>1711049.00</td>\n",
       "      <td>102616.00</td>\n",
       "      <td>11.00</td>\n",
       "      <td>3.00</td>\n",
       "      <td>13.00</td>\n",
       "      <td>8.00</td>\n",
       "      <td>6.00</td>\n",
       "      <td>1.00</td>\n",
       "      <td>26.00</td>\n",
       "      <td>7.82</td>\n",
       "      <td>8.00</td>\n",
       "      <td>49.00</td>\n",
       "      <td>2018-08-16 00:00:00</td>\n",
       "      <td>2.00</td>\n",
       "      <td>96618.00</td>\n",
       "    </tr>\n",
       "    <tr>\n",
       "      <th>75%</th>\n",
       "      <td>37947.00</td>\n",
       "      <td>107.00</td>\n",
       "      <td>16.00</td>\n",
       "      <td>11.30</td>\n",
       "      <td>2565499.00</td>\n",
       "      <td>154389.00</td>\n",
       "      <td>24.00</td>\n",
       "      <td>5.00</td>\n",
       "      <td>16.00</td>\n",
       "      <td>15.00</td>\n",
       "      <td>11.00</td>\n",
       "      <td>1.00</td>\n",
       "      <td>47.00</td>\n",
       "      <td>8.25</td>\n",
       "      <td>13.00</td>\n",
       "      <td>65.00</td>\n",
       "      <td>2019-06-09 00:00:00</td>\n",
       "      <td>3.00</td>\n",
       "      <td>127912.00</td>\n",
       "    </tr>\n",
       "    <tr>\n",
       "      <th>max</th>\n",
       "      <td>49688.00</td>\n",
       "      <td>134.00</td>\n",
       "      <td>21.00</td>\n",
       "      <td>99999.00</td>\n",
       "      <td>3421083.00</td>\n",
       "      <td>206209.00</td>\n",
       "      <td>99.00</td>\n",
       "      <td>6.00</td>\n",
       "      <td>23.00</td>\n",
       "      <td>30.00</td>\n",
       "      <td>145.00</td>\n",
       "      <td>1.00</td>\n",
       "      <td>99.00</td>\n",
       "      <td>25005.42</td>\n",
       "      <td>30.00</td>\n",
       "      <td>81.00</td>\n",
       "      <td>2020-04-01 00:00:00</td>\n",
       "      <td>3.00</td>\n",
       "      <td>593901.00</td>\n",
       "    </tr>\n",
       "    <tr>\n",
       "      <th>std</th>\n",
       "      <td>14084.00</td>\n",
       "      <td>38.21</td>\n",
       "      <td>6.28</td>\n",
       "      <td>495.66</td>\n",
       "      <td>987298.83</td>\n",
       "      <td>59466.10</td>\n",
       "      <td>17.54</td>\n",
       "      <td>2.09</td>\n",
       "      <td>4.25</td>\n",
       "      <td>8.78</td>\n",
       "      <td>7.13</td>\n",
       "      <td>0.49</td>\n",
       "      <td>25.16</td>\n",
       "      <td>83.24</td>\n",
       "      <td>7.13</td>\n",
       "      <td>18.49</td>\n",
       "      <td>NaN</td>\n",
       "      <td>1.12</td>\n",
       "      <td>43057.27</td>\n",
       "    </tr>\n",
       "  </tbody>\n",
       "</table>\n",
       "</div>"
      ],
      "text/plain": [
       "       product_id    aisle_id  department_id      prices    order_id  \\\n",
       "count 32404859.00 32404859.00    32404859.00 32404859.00 32404859.00   \n",
       "mean     25598.66       71.20           9.92       11.98  1710745.50   \n",
       "min          1.00        1.00           1.00        1.00        2.00   \n",
       "25%      13544.00       31.00           4.00        4.20   855947.00   \n",
       "50%      25302.00       83.00           9.00        7.40  1711049.00   \n",
       "75%      37947.00      107.00          16.00       11.30  2565499.00   \n",
       "max      49688.00      134.00          21.00    99999.00  3421083.00   \n",
       "std      14084.00       38.21           6.28      495.66   987298.83   \n",
       "\n",
       "          user_id  number_of_orders  orders_day_of_week  order_hour_of_day  \\\n",
       "count 32404859.00       32404859.00         32404859.00        32404859.00   \n",
       "mean    102937.23             17.14                2.74              13.43   \n",
       "min          1.00              1.00                0.00               0.00   \n",
       "25%      51422.00              5.00                1.00              10.00   \n",
       "50%     102616.00             11.00                3.00              13.00   \n",
       "75%     154389.00             24.00                5.00              16.00   \n",
       "max     206209.00             99.00                6.00              23.00   \n",
       "std      59466.10             17.54                2.09               4.25   \n",
       "\n",
       "       days_since_prior_order  add_to_cart_order   reordered   max_order  \\\n",
       "count             30328763.00        32404859.00 32404859.00 32404859.00   \n",
       "mean                    11.10               8.35        0.59       33.05   \n",
       "min                      0.00               1.00        0.00        1.00   \n",
       "25%                      5.00               3.00        0.00       13.00   \n",
       "50%                      8.00               6.00        1.00       26.00   \n",
       "75%                     15.00              11.00        1.00       47.00   \n",
       "max                     30.00             145.00        1.00       99.00   \n",
       "std                      8.78               7.13        0.49       25.16   \n",
       "\n",
       "       mean_price  median_days_since_prior_order         Age  \\\n",
       "count 32404859.00                    32404854.00 32404859.00   \n",
       "mean        11.98                          10.40       49.47   \n",
       "min          1.00                           0.00       18.00   \n",
       "25%          7.39                           6.00       33.00   \n",
       "50%          7.82                           8.00       49.00   \n",
       "75%          8.25                          13.00       65.00   \n",
       "max      25005.42                          30.00       81.00   \n",
       "std         83.24                           7.13       18.49   \n",
       "\n",
       "                         date_joined  dependants      income  \n",
       "count                       32404859 32404859.00 32404859.00  \n",
       "mean   2018-08-16 15:37:38.003034368        1.50    99437.73  \n",
       "min              2017-01-01 00:00:00        0.00    25903.00  \n",
       "25%              2017-10-22 00:00:00        1.00    67004.00  \n",
       "50%              2018-08-16 00:00:00        2.00    96618.00  \n",
       "75%              2019-06-09 00:00:00        3.00   127912.00  \n",
       "max              2020-04-01 00:00:00        3.00   593901.00  \n",
       "std                              NaN        1.12    43057.27  "
      ]
     },
     "execution_count": 8,
     "metadata": {},
     "output_type": "execute_result"
    }
   ],
   "source": [
    "ords_prods_merge.describe()"
   ]
  },
  {
   "cell_type": "code",
   "execution_count": 9,
   "id": "3701c993",
   "metadata": {},
   "outputs": [
    {
     "data": {
      "text/html": [
       "<div>\n",
       "<style scoped>\n",
       "    .dataframe tbody tr th:only-of-type {\n",
       "        vertical-align: middle;\n",
       "    }\n",
       "\n",
       "    .dataframe tbody tr th {\n",
       "        vertical-align: top;\n",
       "    }\n",
       "\n",
       "    .dataframe thead th {\n",
       "        text-align: right;\n",
       "    }\n",
       "</style>\n",
       "<table border=\"1\" class=\"dataframe\">\n",
       "  <thead>\n",
       "    <tr style=\"text-align: right;\">\n",
       "      <th></th>\n",
       "      <th>product_id</th>\n",
       "      <th>product_name</th>\n",
       "      <th>aisle_id</th>\n",
       "      <th>department_id</th>\n",
       "      <th>prices</th>\n",
       "      <th>order_id</th>\n",
       "      <th>user_id</th>\n",
       "      <th>number_of_orders</th>\n",
       "      <th>orders_day_of_week</th>\n",
       "      <th>order_hour_of_day</th>\n",
       "      <th>...</th>\n",
       "      <th>first_name</th>\n",
       "      <th>surname</th>\n",
       "      <th>gender</th>\n",
       "      <th>state</th>\n",
       "      <th>Age</th>\n",
       "      <th>date_joined</th>\n",
       "      <th>dependants</th>\n",
       "      <th>marital_status</th>\n",
       "      <th>income</th>\n",
       "      <th>exist</th>\n",
       "    </tr>\n",
       "  </thead>\n",
       "  <tbody>\n",
       "    <tr>\n",
       "      <th>0</th>\n",
       "      <td>1</td>\n",
       "      <td>Chocolate Sandwich Cookies</td>\n",
       "      <td>61</td>\n",
       "      <td>19</td>\n",
       "      <td>5.80</td>\n",
       "      <td>3139998</td>\n",
       "      <td>138</td>\n",
       "      <td>28</td>\n",
       "      <td>6</td>\n",
       "      <td>11</td>\n",
       "      <td>...</td>\n",
       "      <td>Charles</td>\n",
       "      <td>Cox</td>\n",
       "      <td>Male</td>\n",
       "      <td>Minnesota</td>\n",
       "      <td>81</td>\n",
       "      <td>2019-08-01</td>\n",
       "      <td>1</td>\n",
       "      <td>married</td>\n",
       "      <td>49620</td>\n",
       "      <td>both</td>\n",
       "    </tr>\n",
       "    <tr>\n",
       "      <th>1</th>\n",
       "      <td>1</td>\n",
       "      <td>Chocolate Sandwich Cookies</td>\n",
       "      <td>61</td>\n",
       "      <td>19</td>\n",
       "      <td>5.80</td>\n",
       "      <td>1977647</td>\n",
       "      <td>138</td>\n",
       "      <td>30</td>\n",
       "      <td>6</td>\n",
       "      <td>17</td>\n",
       "      <td>...</td>\n",
       "      <td>Charles</td>\n",
       "      <td>Cox</td>\n",
       "      <td>Male</td>\n",
       "      <td>Minnesota</td>\n",
       "      <td>81</td>\n",
       "      <td>2019-08-01</td>\n",
       "      <td>1</td>\n",
       "      <td>married</td>\n",
       "      <td>49620</td>\n",
       "      <td>both</td>\n",
       "    </tr>\n",
       "    <tr>\n",
       "      <th>2</th>\n",
       "      <td>907</td>\n",
       "      <td>Premium Sliced Bacon</td>\n",
       "      <td>106</td>\n",
       "      <td>12</td>\n",
       "      <td>20.00</td>\n",
       "      <td>3160996</td>\n",
       "      <td>138</td>\n",
       "      <td>1</td>\n",
       "      <td>5</td>\n",
       "      <td>13</td>\n",
       "      <td>...</td>\n",
       "      <td>Charles</td>\n",
       "      <td>Cox</td>\n",
       "      <td>Male</td>\n",
       "      <td>Minnesota</td>\n",
       "      <td>81</td>\n",
       "      <td>2019-08-01</td>\n",
       "      <td>1</td>\n",
       "      <td>married</td>\n",
       "      <td>49620</td>\n",
       "      <td>both</td>\n",
       "    </tr>\n",
       "    <tr>\n",
       "      <th>3</th>\n",
       "      <td>907</td>\n",
       "      <td>Premium Sliced Bacon</td>\n",
       "      <td>106</td>\n",
       "      <td>12</td>\n",
       "      <td>20.00</td>\n",
       "      <td>2254091</td>\n",
       "      <td>138</td>\n",
       "      <td>10</td>\n",
       "      <td>5</td>\n",
       "      <td>14</td>\n",
       "      <td>...</td>\n",
       "      <td>Charles</td>\n",
       "      <td>Cox</td>\n",
       "      <td>Male</td>\n",
       "      <td>Minnesota</td>\n",
       "      <td>81</td>\n",
       "      <td>2019-08-01</td>\n",
       "      <td>1</td>\n",
       "      <td>married</td>\n",
       "      <td>49620</td>\n",
       "      <td>both</td>\n",
       "    </tr>\n",
       "    <tr>\n",
       "      <th>4</th>\n",
       "      <td>1000</td>\n",
       "      <td>Apricots</td>\n",
       "      <td>18</td>\n",
       "      <td>10</td>\n",
       "      <td>12.90</td>\n",
       "      <td>505689</td>\n",
       "      <td>138</td>\n",
       "      <td>9</td>\n",
       "      <td>6</td>\n",
       "      <td>12</td>\n",
       "      <td>...</td>\n",
       "      <td>Charles</td>\n",
       "      <td>Cox</td>\n",
       "      <td>Male</td>\n",
       "      <td>Minnesota</td>\n",
       "      <td>81</td>\n",
       "      <td>2019-08-01</td>\n",
       "      <td>1</td>\n",
       "      <td>married</td>\n",
       "      <td>49620</td>\n",
       "      <td>both</td>\n",
       "    </tr>\n",
       "  </tbody>\n",
       "</table>\n",
       "<p>5 rows × 34 columns</p>\n",
       "</div>"
      ],
      "text/plain": [
       "   product_id                product_name  aisle_id  department_id  prices  \\\n",
       "0           1  Chocolate Sandwich Cookies        61             19    5.80   \n",
       "1           1  Chocolate Sandwich Cookies        61             19    5.80   \n",
       "2         907        Premium Sliced Bacon       106             12   20.00   \n",
       "3         907        Premium Sliced Bacon       106             12   20.00   \n",
       "4        1000                    Apricots        18             10   12.90   \n",
       "\n",
       "   order_id  user_id  number_of_orders  orders_day_of_week  order_hour_of_day  \\\n",
       "0   3139998      138                28                   6                 11   \n",
       "1   1977647      138                30                   6                 17   \n",
       "2   3160996      138                 1                   5                 13   \n",
       "3   2254091      138                10                   5                 14   \n",
       "4    505689      138                 9                   6                 12   \n",
       "\n",
       "   ...  first_name  surname  gender      state Age date_joined dependants  \\\n",
       "0  ...     Charles      Cox    Male  Minnesota  81  2019-08-01          1   \n",
       "1  ...     Charles      Cox    Male  Minnesota  81  2019-08-01          1   \n",
       "2  ...     Charles      Cox    Male  Minnesota  81  2019-08-01          1   \n",
       "3  ...     Charles      Cox    Male  Minnesota  81  2019-08-01          1   \n",
       "4  ...     Charles      Cox    Male  Minnesota  81  2019-08-01          1   \n",
       "\n",
       "  marital_status  income exist  \n",
       "0        married   49620  both  \n",
       "1        married   49620  both  \n",
       "2        married   49620  both  \n",
       "3        married   49620  both  \n",
       "4        married   49620  both  \n",
       "\n",
       "[5 rows x 34 columns]"
      ]
     },
     "execution_count": 9,
     "metadata": {},
     "output_type": "execute_result"
    }
   ],
   "source": [
    "ords_prods_merge.head()"
   ]
  },
  {
   "cell_type": "code",
   "execution_count": 10,
   "id": "4c21ee40",
   "metadata": {},
   "outputs": [],
   "source": [
    "# Droping columns not needed for the analysis\n",
    "ords_prods_merge = ords_prods_merge.drop(columns = ['aisle_id', 'exist'])"
   ]
  },
  {
   "cell_type": "code",
   "execution_count": 11,
   "id": "724cb79c",
   "metadata": {},
   "outputs": [
    {
     "data": {
      "text/plain": [
       "(32404859, 32)"
      ]
     },
     "execution_count": 11,
     "metadata": {},
     "output_type": "execute_result"
    }
   ],
   "source": [
    "ords_prods_merge.shape"
   ]
  },
  {
   "cell_type": "markdown",
   "id": "79be4fd8",
   "metadata": {},
   "source": [
    "# Step 2"
   ]
  },
  {
   "cell_type": "markdown",
   "id": "c90d2f93",
   "metadata": {},
   "source": [
    "#### Security implications include PII like first name, surname , marital status and income."
   ]
  },
  {
   "cell_type": "markdown",
   "id": "ee6d3553",
   "metadata": {},
   "source": [
    "# Step 3"
   ]
  },
  {
   "cell_type": "code",
   "execution_count": 12,
   "id": "fcae9ec7",
   "metadata": {},
   "outputs": [],
   "source": [
    "# creting new column \"region\" using loc function with mapping\n",
    "ords_prods_merge['region'] = 'West'\n",
    "\n",
    "ords_prods_merge.loc[ords_prods_merge['state'].isin(['Maine', 'New Hampshire', 'Vermont', 'Massachusetts', 'Rhode Island', 'Connecticut', 'New York', 'Pennsylvania', 'New Jersey']), 'region'] = 'Northeast'\n",
    "\n",
    "ords_prods_merge.loc[ords_prods_merge['state'].isin(['Wisconsin', 'Michigan', 'Illinois', 'Indiana', 'Ohio', 'North Dakota', 'South Dakota', 'Nebraska', 'Kansas', 'Minnesota', 'Iowa', 'Missouri']), 'region'] = 'Midwest'\n",
    "\n",
    "ords_prods_merge.loc[ords_prods_merge['state'].isin(['Delaware', 'Maryland', 'District of Columbia', 'Virginia', 'West Virginia', 'North Carolina', 'South Carolina', 'Georgia', 'Florida', 'Kentucky', 'Tennessee', 'Mississippi', 'Alabama', 'Oklahoma', 'Texas', 'Arkansas', 'Louisiana']), 'region'] = 'South'"
   ]
  },
  {
   "cell_type": "code",
   "execution_count": 13,
   "id": "0d5a2dbd",
   "metadata": {},
   "outputs": [
    {
     "data": {
      "text/plain": [
       "region\n",
       "South        10791885\n",
       "West          8292913\n",
       "Midwest       7597325\n",
       "Northeast     5722736\n",
       "Name: count, dtype: int64"
      ]
     },
     "execution_count": 13,
     "metadata": {},
     "output_type": "execute_result"
    }
   ],
   "source": [
    "ords_prods_merge['region'].value_counts(dropna = False)"
   ]
  },
  {
   "cell_type": "code",
   "execution_count": 14,
   "id": "c932feaf",
   "metadata": {},
   "outputs": [
    {
     "data": {
      "text/html": [
       "<div>\n",
       "<style scoped>\n",
       "    .dataframe tbody tr th:only-of-type {\n",
       "        vertical-align: middle;\n",
       "    }\n",
       "\n",
       "    .dataframe tbody tr th {\n",
       "        vertical-align: top;\n",
       "    }\n",
       "\n",
       "    .dataframe thead th {\n",
       "        text-align: right;\n",
       "    }\n",
       "</style>\n",
       "<table border=\"1\" class=\"dataframe\">\n",
       "  <thead>\n",
       "    <tr style=\"text-align: right;\">\n",
       "      <th></th>\n",
       "      <th>state</th>\n",
       "      <th>region</th>\n",
       "    </tr>\n",
       "  </thead>\n",
       "  <tbody>\n",
       "    <tr>\n",
       "      <th>0</th>\n",
       "      <td>Minnesota</td>\n",
       "      <td>Midwest</td>\n",
       "    </tr>\n",
       "    <tr>\n",
       "      <th>1</th>\n",
       "      <td>Minnesota</td>\n",
       "      <td>Midwest</td>\n",
       "    </tr>\n",
       "    <tr>\n",
       "      <th>2</th>\n",
       "      <td>Minnesota</td>\n",
       "      <td>Midwest</td>\n",
       "    </tr>\n",
       "    <tr>\n",
       "      <th>3</th>\n",
       "      <td>Minnesota</td>\n",
       "      <td>Midwest</td>\n",
       "    </tr>\n",
       "    <tr>\n",
       "      <th>4</th>\n",
       "      <td>Minnesota</td>\n",
       "      <td>Midwest</td>\n",
       "    </tr>\n",
       "  </tbody>\n",
       "</table>\n",
       "</div>"
      ],
      "text/plain": [
       "       state   region\n",
       "0  Minnesota  Midwest\n",
       "1  Minnesota  Midwest\n",
       "2  Minnesota  Midwest\n",
       "3  Minnesota  Midwest\n",
       "4  Minnesota  Midwest"
      ]
     },
     "execution_count": 14,
     "metadata": {},
     "output_type": "execute_result"
    }
   ],
   "source": [
    "ords_prods_merge[['state', 'region']].head()"
   ]
  },
  {
   "cell_type": "code",
   "execution_count": 15,
   "id": "75713ef5",
   "metadata": {},
   "outputs": [
    {
     "data": {
      "text/html": [
       "<div>\n",
       "<style scoped>\n",
       "    .dataframe tbody tr th:only-of-type {\n",
       "        vertical-align: middle;\n",
       "    }\n",
       "\n",
       "    .dataframe tbody tr th {\n",
       "        vertical-align: top;\n",
       "    }\n",
       "\n",
       "    .dataframe thead th {\n",
       "        text-align: right;\n",
       "    }\n",
       "</style>\n",
       "<table border=\"1\" class=\"dataframe\">\n",
       "  <thead>\n",
       "    <tr style=\"text-align: right;\">\n",
       "      <th></th>\n",
       "      <th>state</th>\n",
       "      <th>region</th>\n",
       "    </tr>\n",
       "  </thead>\n",
       "  <tbody>\n",
       "    <tr>\n",
       "      <th>32404854</th>\n",
       "      <td>Alabama</td>\n",
       "      <td>South</td>\n",
       "    </tr>\n",
       "    <tr>\n",
       "      <th>32404855</th>\n",
       "      <td>Vermont</td>\n",
       "      <td>Northeast</td>\n",
       "    </tr>\n",
       "    <tr>\n",
       "      <th>32404856</th>\n",
       "      <td>Vermont</td>\n",
       "      <td>Northeast</td>\n",
       "    </tr>\n",
       "    <tr>\n",
       "      <th>32404857</th>\n",
       "      <td>Vermont</td>\n",
       "      <td>Northeast</td>\n",
       "    </tr>\n",
       "    <tr>\n",
       "      <th>32404858</th>\n",
       "      <td>Vermont</td>\n",
       "      <td>Northeast</td>\n",
       "    </tr>\n",
       "  </tbody>\n",
       "</table>\n",
       "</div>"
      ],
      "text/plain": [
       "            state     region\n",
       "32404854  Alabama      South\n",
       "32404855  Vermont  Northeast\n",
       "32404856  Vermont  Northeast\n",
       "32404857  Vermont  Northeast\n",
       "32404858  Vermont  Northeast"
      ]
     },
     "execution_count": 15,
     "metadata": {},
     "output_type": "execute_result"
    }
   ],
   "source": [
    "ords_prods_merge[['state', 'region']].tail()"
   ]
  },
  {
   "cell_type": "code",
   "execution_count": 16,
   "id": "891e6215",
   "metadata": {},
   "outputs": [],
   "source": [
    "# Creating high spenders filter\n",
    "high_spenders = ords_prods_merge[ords_prods_merge['spending_flag'] == 'high_spender']"
   ]
  },
  {
   "cell_type": "code",
   "execution_count": 17,
   "id": "3ddf10cd",
   "metadata": {},
   "outputs": [],
   "source": [
    "# Creating low spenders filter\n",
    "low_spenders = ords_prods_merge[ords_prods_merge['spending_flag'] == 'low_spender']"
   ]
  },
  {
   "cell_type": "code",
   "execution_count": 18,
   "id": "c3f91031",
   "metadata": {},
   "outputs": [],
   "source": [
    "# Group by region and count the number of customers in each region for high and low spenders\n",
    "high_spenders_counts = high_spenders.groupby('region').size()\n",
    "low_spenders_counts = low_spenders.groupby('region').size()"
   ]
  },
  {
   "cell_type": "code",
   "execution_count": 19,
   "id": "90f50577",
   "metadata": {},
   "outputs": [
    {
     "data": {
      "text/plain": [
       "region\n",
       "Midwest      155975\n",
       "Northeast    108225\n",
       "South        209691\n",
       "West         160354\n",
       "dtype: int64"
      ]
     },
     "execution_count": 19,
     "metadata": {},
     "output_type": "execute_result"
    }
   ],
   "source": [
    "# Checking the output for high spenders\n",
    "high_spenders_counts.head()"
   ]
  },
  {
   "cell_type": "code",
   "execution_count": 20,
   "id": "e23c6763",
   "metadata": {},
   "outputs": [
    {
     "data": {
      "image/png": "[encoded data removed]",
      "text/plain": [
       "<Figure size 640x480 with 1 Axes>"
      ]
     },
     "metadata": {},
     "output_type": "display_data"
    }
   ],
   "source": [
    "# Creating bar chart for high spenders and saving it as an objecet \n",
    "bar_regional_high_spenders = high_spenders_counts.plot.bar(edgecolor = 'black', color = ['palegreen', 'peachpuff', 'lightskyblue', 'pink'])\n",
    "plt.title('High Spenders by Region')\n",
    "plt.xlabel('Region')\n",
    "plt.ylabel('Customer Count')\n",
    "plt.xticks(rotation=0)\n",
    "plt.show()"
   ]
  },
  {
   "cell_type": "code",
   "execution_count": 21,
   "id": "bea18339",
   "metadata": {},
   "outputs": [],
   "source": [
    "# Saving as png\n",
    "bar_regional_high_spenders.figure.savefig(os.path.join(path, '04 Analysis','Visualizations', 'bar_regional_high_spenders.png'))"
   ]
  },
  {
   "cell_type": "code",
   "execution_count": 22,
   "id": "8f6ca321",
   "metadata": {},
   "outputs": [
    {
     "data": {
      "text/plain": [
       "region\n",
       "Midwest       7441350\n",
       "Northeast     5614511\n",
       "South        10582194\n",
       "West          8132559\n",
       "dtype: int64"
      ]
     },
     "execution_count": 22,
     "metadata": {},
     "output_type": "execute_result"
    }
   ],
   "source": [
    "# Checking output for low spenders\n",
    "low_spenders_counts.head()"
   ]
  },
  {
   "cell_type": "code",
   "execution_count": 23,
   "id": "e1688995",
   "metadata": {},
   "outputs": [
    {
     "data": {
      "image/png": "[encoded data removed]",
      "text/plain": [
       "<Figure size 640x480 with 1 Axes>"
      ]
     },
     "metadata": {},
     "output_type": "display_data"
    }
   ],
   "source": [
    "# Create Bar Chart for Low Spenders by Region\n",
    "bar_regional_low_spenders = low_spenders_counts.plot.bar(edgecolor = 'black', color = ['palegreen', 'peachpuff', 'lightskyblue', 'pink'])\n",
    "plt.title('Low Spenders by Region')\n",
    "plt.xlabel('Region')\n",
    "plt.ylabel('Customer Count')\n",
    "plt.xticks(rotation=0)\n",
    "plt.show()"
   ]
  },
  {
   "cell_type": "code",
   "execution_count": 24,
   "id": "878d2867",
   "metadata": {},
   "outputs": [],
   "source": [
    "# Saving as png\n",
    "bar_regional_low_spenders.figure.savefig(os.path.join(path, '04 Analysis','Visualizations', 'bar_regional_low_spenders.png'))"
   ]
  },
  {
   "cell_type": "markdown",
   "id": "f7e5e951",
   "metadata": {},
   "source": [
    "#### Those bar charts show that the South has the highest and lowest spenders then followed by midwest in high and low spenders"
   ]
  },
  {
   "cell_type": "code",
   "execution_count": 25,
   "id": "8dd61c11",
   "metadata": {},
   "outputs": [],
   "source": [
    "# Creating a total regional customers filter\n",
    "total_regional_customers = ords_prods_merge['region'].value_counts()"
   ]
  },
  {
   "cell_type": "code",
   "execution_count": 26,
   "id": "d6d13a66",
   "metadata": {},
   "outputs": [
    {
     "data": {
      "text/plain": [
       "region\n",
       "South        10791885\n",
       "West          8292913\n",
       "Midwest       7597325\n",
       "Northeast     5722736\n",
       "Name: count, dtype: int64"
      ]
     },
     "execution_count": 26,
     "metadata": {},
     "output_type": "execute_result"
    }
   ],
   "source": [
    "# Checking outputs\n",
    "total_regional_customers.head()"
   ]
  },
  {
   "cell_type": "code",
   "execution_count": 27,
   "id": "99e0c90d",
   "metadata": {},
   "outputs": [
    {
     "data": {
      "text/plain": [
       "region\n",
       "Midwest     0.98\n",
       "Northeast   0.98\n",
       "South       0.98\n",
       "West        0.98\n",
       "dtype: float64"
      ]
     },
     "execution_count": 27,
     "metadata": {},
     "output_type": "execute_result"
    }
   ],
   "source": [
    "# Creating rations for low spenders\n",
    "low_spenders_counts / total_regional_customers"
   ]
  },
  {
   "cell_type": "code",
   "execution_count": 28,
   "id": "78e6d3f3",
   "metadata": {},
   "outputs": [
    {
     "data": {
      "text/plain": [
       "region\n",
       "Midwest     97.95\n",
       "Northeast   98.11\n",
       "South       98.06\n",
       "West        98.07\n",
       "dtype: float64"
      ]
     },
     "execution_count": 28,
     "metadata": {},
     "output_type": "execute_result"
    }
   ],
   "source": [
    "# Convert results to percentages\n",
    "(low_spenders_counts / total_regional_customers)*100"
   ]
  },
  {
   "cell_type": "code",
   "execution_count": 29,
   "id": "95a1819a",
   "metadata": {},
   "outputs": [],
   "source": [
    "low_spenders_ratio = (low_spenders_counts / total_regional_customers)*100"
   ]
  },
  {
   "cell_type": "code",
   "execution_count": 30,
   "id": "969c8d9f",
   "metadata": {},
   "outputs": [
    {
     "data": {
      "text/plain": [
       "region\n",
       "Midwest     97.95\n",
       "Northeast   98.11\n",
       "South       98.06\n",
       "West        98.07\n",
       "dtype: float64"
      ]
     },
     "execution_count": 30,
     "metadata": {},
     "output_type": "execute_result"
    }
   ],
   "source": [
    "low_spenders_ratio"
   ]
  },
  {
   "cell_type": "code",
   "execution_count": 31,
   "id": "3e6218bf",
   "metadata": {
    "scrolled": true
   },
   "outputs": [
    {
     "data": {
      "text/plain": [
       "region\n",
       "Midwest     0.02\n",
       "Northeast   0.02\n",
       "South       0.02\n",
       "West        0.02\n",
       "dtype: float64"
      ]
     },
     "execution_count": 31,
     "metadata": {},
     "output_type": "execute_result"
    }
   ],
   "source": [
    "# Creating rations for high spenders\n",
    "high_spenders_counts / total_regional_customers"
   ]
  },
  {
   "cell_type": "code",
   "execution_count": 32,
   "id": "08730615",
   "metadata": {},
   "outputs": [
    {
     "data": {
      "text/plain": [
       "region\n",
       "Midwest     2.05\n",
       "Northeast   1.89\n",
       "South       1.94\n",
       "West        1.93\n",
       "dtype: float64"
      ]
     },
     "execution_count": 32,
     "metadata": {},
     "output_type": "execute_result"
    }
   ],
   "source": [
    "# Convert results to percentages\n",
    "(high_spenders_counts / total_regional_customers)*100"
   ]
  },
  {
   "cell_type": "code",
   "execution_count": 33,
   "id": "76c91a82",
   "metadata": {},
   "outputs": [],
   "source": [
    "high_spenders_ratio = (high_spenders_counts / total_regional_customers)*100"
   ]
  },
  {
   "cell_type": "code",
   "execution_count": 34,
   "id": "ccc7cba1",
   "metadata": {},
   "outputs": [
    {
     "data": {
      "text/plain": [
       "region\n",
       "Midwest     2.05\n",
       "Northeast   1.89\n",
       "South       1.94\n",
       "West        1.93\n",
       "dtype: float64"
      ]
     },
     "execution_count": 34,
     "metadata": {},
     "output_type": "execute_result"
    }
   ],
   "source": [
    "high_spenders_ratio"
   ]
  },
  {
   "cell_type": "code",
   "execution_count": 35,
   "id": "77eface1",
   "metadata": {},
   "outputs": [
    {
     "data": {
      "image/png": "[encoded data removed]",
      "text/plain": [
       "<Figure size 640x480 with 1 Axes>"
      ]
     },
     "metadata": {},
     "output_type": "display_data"
    }
   ],
   "source": [
    "# Create Bar Chart of percentage of low spenders by region\n",
    "bar_low_spenders_ratio = low_spenders_ratio.plot.bar(edgecolor = 'black', color = ['palegreen', 'peachpuff', 'lightskyblue', 'pink'])\n",
    "plt.title('Percentage of Low Spenders by Region')\n",
    "plt.xlabel('Region')\n",
    "plt.ylabel('Percentage')\n",
    "plt.xticks(rotation=0)\n",
    "plt.show()"
   ]
  },
  {
   "cell_type": "code",
   "execution_count": 36,
   "id": "6a2841de",
   "metadata": {},
   "outputs": [],
   "source": [
    "# Exporting Bar chart as png\n",
    "bar_low_spenders_ratio.figure.savefig(os.path.join(path, '04 Analysis','Visualizations', 'bar_low_spenders_ratio.png'))"
   ]
  },
  {
   "cell_type": "code",
   "execution_count": 37,
   "id": "1eb25e03",
   "metadata": {},
   "outputs": [
    {
     "data": {
      "image/png": "[encoded data removed]",
      "text/plain": [
       "<Figure size 640x480 with 1 Axes>"
      ]
     },
     "metadata": {},
     "output_type": "display_data"
    }
   ],
   "source": [
    "# Create Bar Chart of percentage of high spenders by region\n",
    "bar_high_spenders_ratio = high_spenders_ratio.plot.bar(edgecolor = 'black', color = ['palegreen', 'peachpuff', 'lightskyblue', 'pink'])\n",
    "plt.title('Percentage of High Spenders by Region')\n",
    "plt.xlabel('Region')\n",
    "plt.ylabel('Percentage')\n",
    "plt.xticks(rotation=0)\n",
    "plt.show()"
   ]
  },
  {
   "cell_type": "code",
   "execution_count": 38,
   "id": "1ad53a5a",
   "metadata": {},
   "outputs": [],
   "source": [
    "# Exporting Bar chart as png\n",
    "bar_high_spenders_ratio.figure.savefig(os.path.join(path, '04 Analysis','Visualizations', 'bar_high_spenders_ratio.png'))"
   ]
  },
  {
   "cell_type": "code",
   "execution_count": 39,
   "id": "ce9f38e0",
   "metadata": {},
   "outputs": [],
   "source": [
    "# Creating Object and normalizing the result\n",
    "region_spending = ords_prods_merge.groupby('region')['spending_flag'].value_counts(normalize=True).unstack() * 100"
   ]
  },
  {
   "cell_type": "code",
   "execution_count": 40,
   "id": "23484153",
   "metadata": {},
   "outputs": [],
   "source": [
    "# Identify colors\n",
    "colors = ['palegreen', 'peachpuff']"
   ]
  },
  {
   "cell_type": "code",
   "execution_count": 41,
   "id": "29771691",
   "metadata": {
    "scrolled": true
   },
   "outputs": [
    {
     "data": {
      "image/png": "[encoded data removed]",
      "text/plain": [
       "<Figure size 640x480 with 1 Axes>"
      ]
     },
     "metadata": {},
     "output_type": "display_data"
    }
   ],
   "source": [
    "# Create stacked Bar Chart\n",
    "region_spender_ratio_stacked_bar = region_spending.plot(kind='bar', stacked=True, edgecolor = 'black', color=colors)\n",
    "# Add Title and Labels\n",
    "region_spender_ratio_stacked_bar.set_xlabel('Region')\n",
    "region_spender_ratio_stacked_bar.set_ylabel('Percent')\n",
    "region_spender_ratio_stacked_bar.set_title('High and Low Spender Ratio by Region')\n",
    "region_spender_ratio_stacked_bar.legend(title= 'Spending Flag', loc='upper right')\n",
    "plt.xticks(rotation=0)\n",
    "plt.show()"
   ]
  },
  {
   "cell_type": "code",
   "execution_count": 42,
   "id": "56bfe480",
   "metadata": {},
   "outputs": [
    {
     "data": {
      "text/plain": [
       "<Figure size 640x480 with 0 Axes>"
      ]
     },
     "metadata": {},
     "output_type": "display_data"
    }
   ],
   "source": [
    "# Save the chart as an image\n",
    "plt.savefig('region_spender_ratio_stacked_bar.png', bbox_inches='tight')"
   ]
  },
  {
   "cell_type": "code",
   "execution_count": 43,
   "id": "9054b34a",
   "metadata": {},
   "outputs": [],
   "source": [
    "# Exporting Bar chart as png\n",
    "region_spender_ratio_stacked_bar.figure.savefig(os.path.join(path, '04 Analysis','Visualizations', 'region_spender_ratio_stacked_bar.png'))\n",
    "plt.show()"
   ]
  },
  {
   "cell_type": "markdown",
   "id": "9607b459",
   "metadata": {},
   "source": [
    "#### The difference between high and low spenders across regions is minimal."
   ]
  },
  {
   "cell_type": "markdown",
   "id": "bcd801e3",
   "metadata": {},
   "source": [
    "# Step 4"
   ]
  },
  {
   "cell_type": "code",
   "execution_count": 44,
   "id": "c19a07e0",
   "metadata": {},
   "outputs": [],
   "source": [
    "# Crating exclusion flag\n",
    "ords_prods_merge['exclusion_flag'] = ords_prods_merge['max_order'] < 5"
   ]
  },
  {
   "cell_type": "code",
   "execution_count": 45,
   "id": "bed90a18",
   "metadata": {},
   "outputs": [
    {
     "data": {
      "text/plain": [
       "exclusion_flag\n",
       "False    30964564\n",
       "True      1440295\n",
       "Name: count, dtype: int64"
      ]
     },
     "execution_count": 45,
     "metadata": {},
     "output_type": "execute_result"
    }
   ],
   "source": [
    "ords_prods_merge['exclusion_flag'].value_counts()"
   ]
  },
  {
   "cell_type": "code",
   "execution_count": 46,
   "id": "47043e33",
   "metadata": {},
   "outputs": [],
   "source": [
    "# Creating new data set with orders =<5\n",
    "df_excl = ords_prods_merge[~ords_prods_merge['exclusion_flag']]"
   ]
  },
  {
   "cell_type": "code",
   "execution_count": 47,
   "id": "6da04c5c",
   "metadata": {},
   "outputs": [
    {
     "data": {
      "text/plain": [
       "(30964564, 34)"
      ]
     },
     "execution_count": 47,
     "metadata": {},
     "output_type": "execute_result"
    }
   ],
   "source": [
    "df_excl.shape"
   ]
  },
  {
   "cell_type": "code",
   "execution_count": 48,
   "id": "2c58e4db",
   "metadata": {},
   "outputs": [
    {
     "data": {
      "text/plain": [
       "count   30964564.00\n",
       "mean          34.43\n",
       "std           24.90\n",
       "min            5.00\n",
       "25%           14.00\n",
       "50%           28.00\n",
       "75%           48.00\n",
       "max           99.00\n",
       "Name: max_order, dtype: float64"
      ]
     },
     "execution_count": 48,
     "metadata": {},
     "output_type": "execute_result"
    }
   ],
   "source": [
    "df_excl['max_order'].describe()"
   ]
  },
  {
   "cell_type": "code",
   "execution_count": 51,
   "id": "a9ef734e",
   "metadata": {},
   "outputs": [],
   "source": [
    "# exporting dataset as pickle format\n",
    "df_excl.to_pickle(os.path.join(path, '02 Data', 'Prepared Data', 'excl.pkl'))"
   ]
  },
  {
   "cell_type": "code",
   "execution_count": 52,
   "id": "df4eb7a8",
   "metadata": {},
   "outputs": [],
   "source": [
    "# Creating new data set with orfers >5\n",
    "sample_less_5 = ords_prods_merge[ords_prods_merge['exclusion_flag']]"
   ]
  },
  {
   "cell_type": "code",
   "execution_count": 53,
   "id": "2b63dcf6",
   "metadata": {},
   "outputs": [
    {
     "data": {
      "text/plain": [
       "(1440295, 34)"
      ]
     },
     "execution_count": 53,
     "metadata": {},
     "output_type": "execute_result"
    }
   ],
   "source": [
    "sample_less_5.shape"
   ]
  },
  {
   "cell_type": "code",
   "execution_count": 54,
   "id": "77960a99",
   "metadata": {},
   "outputs": [],
   "source": [
    "# exporting dataset sample as pickle format\n",
    "sample_less_5.to_pickle(os.path.join(path, '02 Data', 'Prepared Data', 'sample_less_5.pkl'))"
   ]
  }
 ],
 "metadata": {
  "kernelspec": {
   "display_name": "Python 3 (ipykernel)",
   "language": "python",
   "name": "python3"
  },
  "language_info": {
   "codemirror_mode": {
    "name": "ipython",
    "version": 3
   },
   "file_extension": ".py",
   "mimetype": "text/x-python",
   "name": "python",
   "nbconvert_exporter": "python",
   "pygments_lexer": "ipython3",
   "version": "3.11.5"
  }
 },
 "nbformat": 4,
 "nbformat_minor": 5
}
